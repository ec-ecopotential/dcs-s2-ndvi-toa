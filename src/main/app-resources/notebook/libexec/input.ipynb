{
 "cells": [
  {
   "cell_type": "markdown",
   "metadata": {},
   "source": [
    "Training set size"
   ]
  },
  {
   "cell_type": "code",
   "execution_count": 1,
   "metadata": {
    "collapsed": true
   },
   "outputs": [],
   "source": [
    "ts = 1000"
   ]
  },
  {
   "cell_type": "markdown",
   "metadata": {},
   "source": [
    "Number of modes, which will be used to generate class membership"
   ]
  },
  {
   "cell_type": "code",
   "execution_count": 2,
   "metadata": {
    "collapsed": true
   },
   "outputs": [],
   "source": [
    "nc = 5"
   ]
  },
  {
   "cell_type": "markdown",
   "metadata": {},
   "source": [
    "Maximum number of iterations for the learning step"
   ]
  },
  {
   "cell_type": "code",
   "execution_count": 3,
   "metadata": {
    "collapsed": true
   },
   "outputs": [],
   "source": [
    "maxit = 1000"
   ]
  },
  {
   "cell_type": "code",
   "execution_count": 4,
   "metadata": {
    "collapsed": true
   },
   "outputs": [],
   "source": [
    "import os\n",
    "import sys\n",
    "import glob\n",
    "\n",
    "sys.path.append('/opt/OTB-6.2.0/lib/python')\n",
    "sys.path.append('/opt/OTB-6.2.0/lib/libfftw3.so.3')\n",
    "os.environ['OTB_APPLICATION_PATH'] = '/opt/OTB-6.2.0/lib/otb/applications'\n",
    "os.environ['LD_LIBRARY_PATH'] = '/opt/OTB-6.2.0/lib'\n",
    "os.environ['ITK_AUTOLOAD_PATH'] = '/opt/OTB-6.2.0/lib/otb/applications'\n",
    "os.environ['GDAL_DATA'] = '/opt/anaconda/share/gdal/'\n",
    "import otbApplication"
   ]
  },
  {
   "cell_type": "code",
   "execution_count": 5,
   "metadata": {
    "collapsed": true
   },
   "outputs": [],
   "source": [
    "data_path = '/tmp/workspace/data'"
   ]
  },
  {
   "cell_type": "code",
   "execution_count": 6,
   "metadata": {
    "collapsed": true
   },
   "outputs": [],
   "source": [
    "s2_identifier = 'S2A_MSIL1C_20170909T060631_N0205_R134_T42SVG_20170909T061506'"
   ]
  },
  {
   "cell_type": "code",
   "execution_count": null,
   "metadata": {
    "collapsed": true
   },
   "outputs": [],
   "source": [
    "s2_reference = ''"
   ]
  },
  {
   "cell_type": "code",
   "execution_count": 7,
   "metadata": {
    "collapsed": false
   },
   "outputs": [],
   "source": [
    "search_expression = os.path.join(data_path, s2_identifier, s2_identifier + '.SAFE', 'manifest.safe')"
   ]
  },
  {
   "cell_type": "code",
   "execution_count": 8,
   "metadata": {
    "collapsed": false
   },
   "outputs": [],
   "source": [
    "s2_manifest = glob.glob(search_expression)[0] "
   ]
  },
  {
   "cell_type": "code",
   "execution_count": 9,
   "metadata": {
    "collapsed": false
   },
   "outputs": [],
   "source": [
    "cwd = os.getcwd()\n",
    "granule_path = os.path.join(data_path, s2_identifier, s2_identifier + '.SAFE', 'GRANULE')\n",
    "os.chdir(granule_path)"
   ]
  },
  {
   "cell_type": "code",
   "execution_count": 10,
   "metadata": {
    "collapsed": false
   },
   "outputs": [
    {
     "data": {
      "text/plain": [
       "['L1C_T42SVG_A011571_20170909T061506']"
      ]
     },
     "execution_count": 10,
     "metadata": {},
     "output_type": "execute_result"
    }
   ],
   "source": [
    "granules = [ name for name in os.listdir('.') if os.path.isdir(name)]\n",
    "\n",
    "os.chdir(cwd)\n",
    "\n",
    "granules"
   ]
  },
  {
   "cell_type": "code",
   "execution_count": 11,
   "metadata": {
    "collapsed": false
   },
   "outputs": [],
   "source": [
    "granule_index = 0\n",
    "\n",
    "s2_bands = []\n",
    "\n",
    "for band in [2, 3, 4, 8]:\n",
    "\n",
    "    search_expression = os.path.join(granule_path, granules[granule_index], 'IMG_DATA', '*_B0' + str(band) + '.jp2')\n",
    "    s2_bands.append(glob.glob(search_expression)[0])"
   ]
  },
  {
   "cell_type": "code",
   "execution_count": 12,
   "metadata": {
    "collapsed": false
   },
   "outputs": [
    {
     "data": {
      "text/plain": [
       "0"
      ]
     },
     "execution_count": 12,
     "metadata": {},
     "output_type": "execute_result"
    }
   ],
   "source": [
    "OTB_app1 = otbApplication.Registry.CreateApplication('ConcatenateImages')\n",
    "\n",
    "OTB_app1.SetParameterStringList('il', s2_bands)\n",
    "OTB_app1.SetParameterString('out', 'concat.tif')\n",
    "\n",
    "OTB_app1.ExecuteAndWriteOutput()"
   ]
  },
  {
   "cell_type": "code",
   "execution_count": 13,
   "metadata": {
    "collapsed": false
   },
   "outputs": [
    {
     "data": {
      "text/plain": [
       "0"
      ]
     },
     "execution_count": 13,
     "metadata": {},
     "output_type": "execute_result"
    }
   ],
   "source": [
    "OTB_app2 = otbApplication.Registry.CreateApplication('KMeansClassification')\n",
    "\n",
    "OTB_app2.SetParameterString('in', 'concat.tif')\n",
    "OTB_app2.SetParameterInt('ts', ts)\n",
    "OTB_app2.SetParameterInt('nc', nc)\n",
    "OTB_app2.SetParameterInt('maxit', maxit)\n",
    "OTB_app2.SetParameterString('out', 'classification.tif')\n",
    "\n",
    "OTB_app2.ExecuteAndWriteOutput()"
   ]
  },
  {
   "cell_type": "code",
   "execution_count": 14,
   "metadata": {
    "collapsed": false
   },
   "outputs": [],
   "source": [
    "os.remove('concat.tif')"
   ]
  },
  {
   "cell_type": "code",
   "execution_count": 15,
   "metadata": {
    "collapsed": true
   },
   "outputs": [],
   "source": [
    "file = open('classification.lut', 'w') \n",
    " \n",
    "file.write('0 51 153 255') \n",
    "file.write('1 255 255 204') \n",
    "file.write('2 229 255 204') \n",
    "file.write('3 204 255 255') \n",
    "file.write('4 255 204 255') \n",
    " \n",
    "file.close() "
   ]
  },
  {
   "cell_type": "code",
   "execution_count": 18,
   "metadata": {
    "collapsed": false
   },
   "outputs": [
    {
     "data": {
      "text/plain": [
       "0"
      ]
     },
     "execution_count": 18,
     "metadata": {},
     "output_type": "execute_result"
    }
   ],
   "source": [
    "OTB_app3 = otbApplication.Registry.CreateApplication('ColorMapping')\n",
    "\n",
    "OTB_app3.SetParameterString('in', 'classification.tif')\n",
    "OTB_app3.SetParameterString('method', 'custom')\n",
    "OTB_app3.SetParameterString('method.custom.lut', 'classification.lut')\n",
    "OTB_app3.SetParameterString('out', 'preview.tif')\n",
    "OTB_app3.SetParameterOutputImagePixelType('out', otbApplication.ImagePixelType_uint8)\n",
    "\n",
    "OTB_app3.ExecuteAndWriteOutput()"
   ]
  },
  {
   "cell_type": "code",
   "execution_count": 20,
   "metadata": {
    "collapsed": true
   },
   "outputs": [],
   "source": [
    "os.remove('classification.lut')"
   ]
  },
  {
   "cell_type": "code",
   "execution_count": null,
   "metadata": {
    "collapsed": true
   },
   "outputs": [],
   "source": []
  }
 ],
 "metadata": {
  "kernelspec": {
   "display_name": "Python 2",
   "language": "python",
   "name": "python2"
  },
  "language_info": {
   "codemirror_mode": {
    "name": "ipython",
    "version": 2
   },
   "file_extension": ".py",
   "mimetype": "text/x-python",
   "name": "python",
   "nbconvert_exporter": "python",
   "pygments_lexer": "ipython2",
   "version": "2.7.12"
  }
 },
 "nbformat": 4,
 "nbformat_minor": 2
}
